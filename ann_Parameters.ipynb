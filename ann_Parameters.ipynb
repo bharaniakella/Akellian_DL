{
  "nbformat": 4,
  "nbformat_minor": 0,
  "metadata": {
    "colab": {
      "provenance": [],
      "authorship_tag": "ABX9TyPaYUhVI9iFDkCw7UW0pk9l",
      "include_colab_link": true
    },
    "kernelspec": {
      "name": "python3",
      "display_name": "Python 3"
    },
    "language_info": {
      "name": "python"
    }
  },
  "cells": [
    {
      "cell_type": "markdown",
      "metadata": {
        "id": "view-in-github",
        "colab_type": "text"
      },
      "source": [
        "<a href=\"https://colab.research.google.com/github/bharaniakella/Akellian_DL/blob/main/ann_Parameters.ipynb\" target=\"_parent\"><img src=\"https://colab.research.google.com/assets/colab-badge.svg\" alt=\"Open In Colab\"/></a>"
      ]
    },
    {
      "cell_type": "code",
      "execution_count": 1,
      "metadata": {
        "id": "8KfSVdfENfrq"
      },
      "outputs": [],
      "source": [
        "import numpy as np\n",
        "import torch\n",
        "import torch.nn as nn"
      ]
    },
    {
      "cell_type": "code",
      "source": [
        "deep_net=nn.Sequential(\n",
        "    nn.Linear(2,2),\n",
        "    nn.ReLU(),\n",
        "    nn.Linear(2,2),\n",
        "    nn.ReLU(),\n",
        "    nn.Linear(2,1)\n",
        ")\n",
        "\n",
        "wide_net = nn.Sequential(\n",
        "    nn.Linear(2,4),\n",
        "    nn.ReLU(),\n",
        "    nn.Linear(4,1)\n",
        ")"
      ],
      "metadata": {
        "id": "AhEwzIXMNjok"
      },
      "execution_count": 4,
      "outputs": []
    },
    {
      "cell_type": "code",
      "source": [
        "for p in deep_net.named_parameters():\n",
        "  print(p)"
      ],
      "metadata": {
        "colab": {
          "base_uri": "https://localhost:8080/"
        },
        "id": "qhMv011MNoL2",
        "outputId": "543bf2a2-73a5-4e8f-e4a4-7a30e7736b4c"
      },
      "execution_count": 6,
      "outputs": [
        {
          "output_type": "stream",
          "name": "stdout",
          "text": [
            "('0.weight', Parameter containing:\n",
            "tensor([[-0.5288,  0.1587],\n",
            "        [ 0.5909,  0.1821]], requires_grad=True))\n",
            "('0.bias', Parameter containing:\n",
            "tensor([-0.5054, -0.6755], requires_grad=True))\n",
            "('2.weight', Parameter containing:\n",
            "tensor([[-0.5778, -0.4300],\n",
            "        [-0.4464, -0.0039]], requires_grad=True))\n",
            "('2.bias', Parameter containing:\n",
            "tensor([0.3858, 0.5968], requires_grad=True))\n",
            "('4.weight', Parameter containing:\n",
            "tensor([[-0.6490,  0.4621]], requires_grad=True))\n",
            "('4.bias', Parameter containing:\n",
            "tensor([-0.0492], requires_grad=True))\n"
          ]
        }
      ]
    },
    {
      "cell_type": "code",
      "source": [
        "for p in wide_net.named_parameters():\n",
        "  print(p)"
      ],
      "metadata": {
        "colab": {
          "base_uri": "https://localhost:8080/"
        },
        "id": "f7LXk2WeOP14",
        "outputId": "22dddd96-3932-4ec6-c6c8-615bac13d7bc"
      },
      "execution_count": 7,
      "outputs": [
        {
          "output_type": "stream",
          "name": "stdout",
          "text": [
            "('0.weight', Parameter containing:\n",
            "tensor([[-0.1526, -0.1443],\n",
            "        [-0.4140,  0.6749],\n",
            "        [ 0.0368,  0.3269],\n",
            "        [-0.0459,  0.3144]], requires_grad=True))\n",
            "('0.bias', Parameter containing:\n",
            "tensor([-0.6127, -0.5270, -0.3026, -0.0058], requires_grad=True))\n",
            "('2.weight', Parameter containing:\n",
            "tensor([[ 0.2687, -0.3341,  0.3506,  0.4322]], requires_grad=True))\n",
            "('2.bias', Parameter containing:\n",
            "tensor([-0.0126], requires_grad=True))\n"
          ]
        }
      ]
    },
    {
      "cell_type": "code",
      "source": [
        "total_nodes=0\n",
        "for p in deep_net.named_parameters():\n",
        "  if 'bias' in p[0]:\n",
        "    total_nodes=total_nodes+len(p[1])\n",
        "\n",
        "total_nodes"
      ],
      "metadata": {
        "colab": {
          "base_uri": "https://localhost:8080/"
        },
        "id": "0PXgy2irOaJR",
        "outputId": "f5d812d2-1741-4d58-cac1-e1c04bfc665f"
      },
      "execution_count": 14,
      "outputs": [
        {
          "output_type": "execute_result",
          "data": {
            "text/plain": [
              "5"
            ]
          },
          "metadata": {},
          "execution_count": 14
        }
      ]
    },
    {
      "cell_type": "code",
      "source": [
        "total_nodes=0\n",
        "for p in wide_net.named_parameters():\n",
        "  if 'bias' in p[0]:\n",
        "    total_nodes=total_nodes+len(p[1])\n",
        "\n",
        "total_nodes"
      ],
      "metadata": {
        "colab": {
          "base_uri": "https://localhost:8080/"
        },
        "id": "RTG5wSOhOj45",
        "outputId": "332bef0d-46b7-4126-acd9-a56772205b62"
      },
      "execution_count": 13,
      "outputs": [
        {
          "output_type": "execute_result",
          "data": {
            "text/plain": [
              "5"
            ]
          },
          "metadata": {},
          "execution_count": 13
        }
      ]
    },
    {
      "cell_type": "code",
      "source": [
        "for parameter_name,parameter_value in deep_net.named_parameters():\n",
        "  print(parameter_value)"
      ],
      "metadata": {
        "colab": {
          "base_uri": "https://localhost:8080/"
        },
        "id": "Ew4o_QfEO-oG",
        "outputId": "8c720f42-2b4f-4e9a-bfb2-550bfdaee408"
      },
      "execution_count": 12,
      "outputs": [
        {
          "output_type": "stream",
          "name": "stdout",
          "text": [
            "Parameter containing:\n",
            "tensor([[-0.5288,  0.1587],\n",
            "        [ 0.5909,  0.1821]], requires_grad=True)\n",
            "Parameter containing:\n",
            "tensor([-0.5054, -0.6755], requires_grad=True)\n",
            "Parameter containing:\n",
            "tensor([[-0.5778, -0.4300],\n",
            "        [-0.4464, -0.0039]], requires_grad=True)\n",
            "Parameter containing:\n",
            "tensor([0.3858, 0.5968], requires_grad=True)\n",
            "Parameter containing:\n",
            "tensor([[-0.6490,  0.4621]], requires_grad=True)\n",
            "Parameter containing:\n",
            "tensor([-0.0492], requires_grad=True)\n"
          ]
        }
      ]
    },
    {
      "cell_type": "code",
      "source": [
        "num_train=0\n",
        "for p in deep_net.parameters():\n",
        "  if p.requires_grad:\n",
        "    num_train=num_train+p.numel()\n",
        "num_train"
      ],
      "metadata": {
        "colab": {
          "base_uri": "https://localhost:8080/"
        },
        "id": "kqecNcDWPLMk",
        "outputId": "e32ef870-e996-48bc-dd19-1044040e2ca4"
      },
      "execution_count": 16,
      "outputs": [
        {
          "output_type": "execute_result",
          "data": {
            "text/plain": [
              "15"
            ]
          },
          "metadata": {},
          "execution_count": 16
        }
      ]
    },
    {
      "cell_type": "code",
      "source": [
        "from torchsummary import summary\n",
        "summary(wide_net,(1,2))"
      ],
      "metadata": {
        "colab": {
          "base_uri": "https://localhost:8080/"
        },
        "id": "gsG1SmisQYBM",
        "outputId": "0188c44a-5750-4e99-c43e-22d92f657ad9"
      },
      "execution_count": 19,
      "outputs": [
        {
          "output_type": "stream",
          "name": "stdout",
          "text": [
            "----------------------------------------------------------------\n",
            "        Layer (type)               Output Shape         Param #\n",
            "================================================================\n",
            "            Linear-1                 [-1, 1, 4]              12\n",
            "              ReLU-2                 [-1, 1, 4]               0\n",
            "            Linear-3                 [-1, 1, 1]               5\n",
            "================================================================\n",
            "Total params: 17\n",
            "Trainable params: 17\n",
            "Non-trainable params: 0\n",
            "----------------------------------------------------------------\n",
            "Input size (MB): 0.00\n",
            "Forward/backward pass size (MB): 0.00\n",
            "Params size (MB): 0.00\n",
            "Estimated Total Size (MB): 0.00\n",
            "----------------------------------------------------------------\n"
          ]
        }
      ]
    },
    {
      "cell_type": "code",
      "source": [
        "from torchsummary import summary\n",
        "summary(deep_net,(1,2))"
      ],
      "metadata": {
        "colab": {
          "base_uri": "https://localhost:8080/"
        },
        "id": "AxdIOoSTQlyQ",
        "outputId": "1949da03-5f7a-4702-bda9-864b0d82fb86"
      },
      "execution_count": 20,
      "outputs": [
        {
          "output_type": "stream",
          "name": "stdout",
          "text": [
            "----------------------------------------------------------------\n",
            "        Layer (type)               Output Shape         Param #\n",
            "================================================================\n",
            "            Linear-1                 [-1, 1, 2]               6\n",
            "              ReLU-2                 [-1, 1, 2]               0\n",
            "            Linear-3                 [-1, 1, 2]               6\n",
            "              ReLU-4                 [-1, 1, 2]               0\n",
            "            Linear-5                 [-1, 1, 1]               3\n",
            "================================================================\n",
            "Total params: 15\n",
            "Trainable params: 15\n",
            "Non-trainable params: 0\n",
            "----------------------------------------------------------------\n",
            "Input size (MB): 0.00\n",
            "Forward/backward pass size (MB): 0.00\n",
            "Params size (MB): 0.00\n",
            "Estimated Total Size (MB): 0.00\n",
            "----------------------------------------------------------------\n"
          ]
        }
      ]
    },
    {
      "cell_type": "code",
      "source": [],
      "metadata": {
        "id": "BjkHx5gBQxVr"
      },
      "execution_count": null,
      "outputs": []
    }
  ]
}