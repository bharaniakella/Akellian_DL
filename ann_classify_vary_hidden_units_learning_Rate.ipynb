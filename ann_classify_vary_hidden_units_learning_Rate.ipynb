{
  "nbformat": 4,
  "nbformat_minor": 0,
  "metadata": {
    "colab": {
      "provenance": [],
      "authorship_tag": "ABX9TyPQpBLo/JXViRPnWkBBv4d8",
      "include_colab_link": true
    },
    "kernelspec": {
      "name": "python3",
      "display_name": "Python 3"
    },
    "language_info": {
      "name": "python"
    }
  },
  "cells": [
    {
      "cell_type": "markdown",
      "metadata": {
        "id": "view-in-github",
        "colab_type": "text"
      },
      "source": [
        "<a href=\"https://colab.research.google.com/github/bharaniakella/Akellian_DL/blob/main/ann_classify_vary_hidden_units_learning_Rate.ipynb\" target=\"_parent\"><img src=\"https://colab.research.google.com/assets/colab-badge.svg\" alt=\"Open In Colab\"/></a>"
      ]
    },
    {
      "cell_type": "code",
      "execution_count": 18,
      "metadata": {
        "id": "dHvqehd3Tj6W"
      },
      "outputs": [],
      "source": [
        "# import libraries\n",
        "import torch\n",
        "import torch.nn as nn\n",
        "\n",
        "import numpy as np\n",
        "import matplotlib.pyplot as plt"
      ]
    },
    {
      "cell_type": "code",
      "source": [
        "import pandas as pd\n",
        "iris = pd.read_csv('https://raw.githubusercontent.com/mwaskom/seaborn-data/master/iris.csv')\n",
        "# organize the data\n",
        "\n",
        "# convert from pandas dataframe to tensor\n",
        "data = torch.tensor( iris[iris.columns[0:4]].values ).float()\n",
        "\n",
        "# transform species to number\n",
        "labels = torch.zeros(len(data), dtype=torch.long)\n",
        "# labels[iris.species=='setosa'] = 0 # don't need!\n",
        "labels[iris.species=='versicolor'] = 1\n",
        "labels[iris.species=='virginica'] = 2\n",
        "\n",
        "labels"
      ],
      "metadata": {
        "colab": {
          "base_uri": "https://localhost:8080/"
        },
        "id": "2W-9fimpVG_g",
        "outputId": "621e0f9c-d2d1-4cb9-dff4-88a38ad64f64"
      },
      "execution_count": 19,
      "outputs": [
        {
          "output_type": "execute_result",
          "data": {
            "text/plain": [
              "tensor([0, 0, 0, 0, 0, 0, 0, 0, 0, 0, 0, 0, 0, 0, 0, 0, 0, 0, 0, 0, 0, 0, 0, 0,\n",
              "        0, 0, 0, 0, 0, 0, 0, 0, 0, 0, 0, 0, 0, 0, 0, 0, 0, 0, 0, 0, 0, 0, 0, 0,\n",
              "        0, 0, 1, 1, 1, 1, 1, 1, 1, 1, 1, 1, 1, 1, 1, 1, 1, 1, 1, 1, 1, 1, 1, 1,\n",
              "        1, 1, 1, 1, 1, 1, 1, 1, 1, 1, 1, 1, 1, 1, 1, 1, 1, 1, 1, 1, 1, 1, 1, 1,\n",
              "        1, 1, 1, 1, 2, 2, 2, 2, 2, 2, 2, 2, 2, 2, 2, 2, 2, 2, 2, 2, 2, 2, 2, 2,\n",
              "        2, 2, 2, 2, 2, 2, 2, 2, 2, 2, 2, 2, 2, 2, 2, 2, 2, 2, 2, 2, 2, 2, 2, 2,\n",
              "        2, 2, 2, 2, 2, 2])"
            ]
          },
          "metadata": {},
          "execution_count": 19
        }
      ]
    },
    {
      "cell_type": "code",
      "source": [
        "def create_model(hid,lr):\n",
        "  ann_hid=nn.Sequential(\n",
        "      nn.Linear(4,hid),\n",
        "      nn.ReLU(),\n",
        "      nn.Linear(hid,hid),\n",
        "      nn.ReLU(),\n",
        "      nn.Linear(hid,3)\n",
        "  )\n",
        "  loss_fun=nn.CrossEntropyLoss()\n",
        "  optimizer=torch.optim.SGD(ann_hid.parameters(),lr)\n",
        "  return ann_hid,loss_fun,optimizer"
      ],
      "metadata": {
        "id": "i-V-zhR7VMoj"
      },
      "execution_count": 20,
      "outputs": []
    },
    {
      "cell_type": "code",
      "source": [
        "num_epochs=500\n",
        "def train_model(ann_hid):\n",
        "  for epochi in range(num_epochs):\n",
        "    yhat=ann_hid(data)\n",
        "\n",
        "    loss=loss_fun(yhat,labels)\n",
        "\n",
        "    optimizer.zero_grad()\n",
        "    loss.backward()\n",
        "    optimizer.step()\n",
        "\n",
        "  predictions=ann_hid(data)\n",
        "  test_acc=100*torch.mean((torch.argmax(predictions,axis=1)==labels).float())\n",
        "  return test_acc"
      ],
      "metadata": {
        "id": "QtKov6N_Vr_v"
      },
      "execution_count": 21,
      "outputs": []
    },
    {
      "cell_type": "code",
      "source": [
        "hid_list=np.arange(64,129)\n",
        "learning_rates=np.linspace(0.001,0.1,25)\n",
        "hid_lr=torch.zeros((len(hid_list),len(learning_rates)))\n",
        "acc_by_hid=[]\n",
        "for i,hidi in enumerate(hid_list):\n",
        "  for j,lri in enumerate(learning_rates):\n",
        "\n",
        "    ann_hid,loss_fun,optimizer=create_model(hidi,lri)\n",
        "    hid_lr[i,j]=train_model(ann_hid)\n"
      ],
      "metadata": {
        "id": "gClUZCwKWylb"
      },
      "execution_count": 26,
      "outputs": []
    },
    {
      "cell_type": "code",
      "source": [],
      "metadata": {
        "colab": {
          "base_uri": "https://localhost:8080/"
        },
        "id": "tM4OYueUZVND",
        "outputId": "2fc8c801-2a7a-461f-b05c-4ddf14846a1f"
      },
      "execution_count": 33,
      "outputs": [
        {
          "output_type": "execute_result",
          "data": {
            "text/plain": [
              "torch.return_types.max(\n",
              "values=tensor([83.3333, 98.0000, 98.6667, 98.6667, 98.6667, 98.6667, 98.6667, 98.6667,\n",
              "        98.6667, 98.6667, 98.6667, 98.6667, 98.6667, 98.6667, 98.6667, 98.6667,\n",
              "        99.3333, 98.6667, 99.3333, 98.6667, 98.6667, 98.6667, 98.6667, 98.6667,\n",
              "        98.6667]),\n",
              "indices=tensor([47, 40,  1, 11, 16,  4,  2,  3, 21,  5,  1,  5,  6, 10,  0,  1, 38,  2,\n",
              "        24, 15,  7,  7,  3,  0, 27]))"
            ]
          },
          "metadata": {},
          "execution_count": 33
        }
      ]
    },
    {
      "cell_type": "code",
      "source": [],
      "metadata": {
        "id": "RqXTdBjddSIa"
      },
      "execution_count": null,
      "outputs": []
    }
  ]
}