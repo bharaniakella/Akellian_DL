{
  "nbformat": 4,
  "nbformat_minor": 0,
  "metadata": {
    "colab": {
      "provenance": [],
      "authorship_tag": "ABX9TyO3jkgkwfwhPq9A5M8+1ntI",
      "include_colab_link": true
    },
    "kernelspec": {
      "name": "python3",
      "display_name": "Python 3"
    },
    "language_info": {
      "name": "python"
    }
  },
  "cells": [
    {
      "cell_type": "markdown",
      "metadata": {
        "id": "view-in-github",
        "colab_type": "text"
      },
      "source": [
        "<a href=\"https://colab.research.google.com/github/bharaniakella/Akellian_DL/blob/main/Multilayer_seq_2_class_challenge.ipynb\" target=\"_parent\"><img src=\"https://colab.research.google.com/assets/colab-badge.svg\" alt=\"Open In Colab\"/></a>"
      ]
    },
    {
      "cell_type": "code",
      "execution_count": 19,
      "metadata": {
        "id": "1qoWEL_MGje3"
      },
      "outputs": [],
      "source": [
        "import numpy as np\n",
        "import torch\n",
        "import torch.nn as nn\n",
        "from matplotlib import pyplot as plt"
      ]
    },
    {
      "cell_type": "code",
      "source": [
        "import torch.nn.functional as F"
      ],
      "metadata": {
        "id": "JzKdxDHs4bdM"
      },
      "execution_count": 20,
      "outputs": []
    },
    {
      "cell_type": "code",
      "source": [
        "nPerClust = 100\n",
        "blur = 1\n",
        "\n",
        "A = [  1, 1 ]\n",
        "B = [  5, 1 ]\n",
        "\n",
        "# generate data\n",
        "a = [ A[0]+np.random.randn(nPerClust)*blur , A[1]+np.random.randn(nPerClust)*blur ]\n",
        "b = [ B[0]+np.random.randn(nPerClust)*blur , B[1]+np.random.randn(nPerClust)*blur ]\n",
        "\n",
        "# true labels\n",
        "labels_np = np.vstack((np.zeros((nPerClust,1)),np.ones((nPerClust,1))))\n",
        "\n",
        "# concatanate into a matrix\n",
        "data_np = np.hstack((a,b)).T\n",
        "\n",
        "# convert to a pytorch tensor\n",
        "data = torch.tensor(data_np).float()\n",
        "labels = torch.tensor(labels_np).float()\n",
        "\n",
        "# show the data\n",
        "fig = plt.figure(figsize=(5,5))\n",
        "plt.plot(data[np.where(labels==0)[0],0],data[np.where(labels==0)[0],1],'bs')\n",
        "plt.plot(data[np.where(labels==1)[0],0],data[np.where(labels==1)[0],1],'ko')\n",
        "plt.title('The qwerties!')\n",
        "plt.xlabel('qwerty dimension 1')\n",
        "plt.ylabel('qwerty dimension 2')\n",
        "plt.show()"
      ],
      "metadata": {
        "colab": {
          "base_uri": "https://localhost:8080/",
          "height": 487
        },
        "id": "WZiWgi6-GqVC",
        "outputId": "7a1e9fd7-1cec-4f68-98cf-81031203e83e"
      },
      "execution_count": 21,
      "outputs": [
        {
          "output_type": "display_data",
          "data": {
            "text/plain": [
              "<Figure size 500x500 with 1 Axes>"
            ],
            "image/png": "[encoded data removed]"
          },
          "metadata": {}
        }
      ]
    },
    {
      "cell_type": "code",
      "source": [
        "class AnnMultilayer(nn.Module):\n",
        "  def __init__(self):\n",
        "    super().__init__()\n",
        "    self.layers=nn.ModuleDict()\n",
        "    self.layers['input']=nn.Linear(2,16)\n",
        "    self.layers['hidden']=nn.Linear(16,16)\n",
        "    self.layers['output']=nn.Linear(16,1)\n",
        "\n",
        "  def forward(self,x):\n",
        "    x=F.relu(self.layers['input'](x))\n",
        "    x=F.relu(self.layers['hidden'](x))\n",
        "    x=self.layers['output'](x)\n",
        "    return x\n",
        "\n"
      ],
      "metadata": {
        "id": "cgpvTNUvX-ZV"
      },
      "execution_count": 22,
      "outputs": []
    },
    {
      "cell_type": "code",
      "source": [
        "net=AnnMultilayer()\n",
        "temp_data=torch.randn(10,2)\n",
        "yhat=net(temp_data)\n",
        "yhat"
      ],
      "metadata": {
        "colab": {
          "base_uri": "https://localhost:8080/"
        },
        "id": "VLXhnYOe46k9",
        "outputId": "d532aafb-62c0-4179-c3d1-c267a6b71de0"
      },
      "execution_count": 23,
      "outputs": [
        {
          "output_type": "execute_result",
          "data": {
            "text/plain": [
              "tensor([[ 0.0143],\n",
              "        [-0.0188],\n",
              "        [-0.0423],\n",
              "        [-0.0121],\n",
              "        [-0.0606],\n",
              "        [-0.0178],\n",
              "        [-0.0138],\n",
              "        [-0.0245],\n",
              "        [-0.0124],\n",
              "        [-0.0454]], grad_fn=<AddmmBackward0>)"
            ]
          },
          "metadata": {},
          "execution_count": 23
        }
      ]
    },
    {
      "cell_type": "code",
      "source": [
        "num_epochs=500\n",
        "losses=torch.zeros(num_epochs)\n",
        "def train_model(ann_classify):\n",
        "  lr=0.05\n",
        "  loss_fun=nn.BCEWithLogitsLoss()\n",
        "  optimizer=torch.optim.SGD(ann_classify.parameters(),lr)\n",
        "\n",
        "  for epochi in range(num_epochs):\n",
        "    yhat=ann_classify(data)\n",
        "\n",
        "    loss=loss_fun(yhat,labels)\n",
        "    losses[epochi]=loss\n",
        "\n",
        "    optimizer.zero_grad()\n",
        "    loss.backward()\n",
        "    optimizer.step()\n",
        "\n",
        "  predictions=ann_classify(data)\n",
        "  total_acc=100*torch.mean(((predictions>0)==labels).float())\n",
        "\n",
        "  return predictions,losses,total_acc"
      ],
      "metadata": {
        "id": "aCKBQOMsYY4W"
      },
      "execution_count": 24,
      "outputs": []
    },
    {
      "cell_type": "code",
      "source": [
        "predictions,losses,total_acc=train_model(net)"
      ],
      "metadata": {
        "id": "EK6pq8F-ZksI"
      },
      "execution_count": 25,
      "outputs": []
    },
    {
      "cell_type": "code",
      "source": [
        "total_acc"
      ],
      "metadata": {
        "id": "Vr3rQV0MgiMe",
        "colab": {
          "base_uri": "https://localhost:8080/"
        },
        "outputId": "729582e8-3188-4c65-8a6c-016358c646eb"
      },
      "execution_count": 26,
      "outputs": [
        {
          "output_type": "execute_result",
          "data": {
            "text/plain": [
              "tensor(98.)"
            ]
          },
          "metadata": {},
          "execution_count": 26
        }
      ]
    },
    {
      "cell_type": "code",
      "source": [],
      "metadata": {
        "id": "rO2_GjhY5-NW"
      },
      "execution_count": 26,
      "outputs": []
    }
  ]
}