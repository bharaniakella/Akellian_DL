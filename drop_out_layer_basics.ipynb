{
  "nbformat": 4,
  "nbformat_minor": 0,
  "metadata": {
    "colab": {
      "provenance": [],
      "authorship_tag": "ABX9TyMRhh1ZeHQF38eReoKvdrTc",
      "include_colab_link": true
    },
    "kernelspec": {
      "name": "python3",
      "display_name": "Python 3"
    },
    "language_info": {
      "name": "python"
    }
  },
  "cells": [
    {
      "cell_type": "markdown",
      "metadata": {
        "id": "view-in-github",
        "colab_type": "text"
      },
      "source": [
        "<a href=\"https://colab.research.google.com/github/bharaniakella/Akellian_DL/blob/main/drop_out_layer_basics.ipynb\" target=\"_parent\"><img src=\"https://colab.research.google.com/assets/colab-badge.svg\" alt=\"Open In Colab\"/></a>"
      ]
    },
    {
      "cell_type": "code",
      "execution_count": 37,
      "metadata": {
        "id": "ehu307S2d_Iv"
      },
      "outputs": [],
      "source": [
        "import torch\n",
        "import torch.nn as nn\n",
        "import torch.nn.functional as F"
      ]
    },
    {
      "cell_type": "code",
      "source": [
        "prob=0.5\n",
        "x=torch.ones(10)\n",
        "dropout=nn.Dropout(p=prob)\n",
        "print(x)\n",
        "y=dropout(x)\n",
        "print(y)\n",
        "print(torch.mean(y))"
      ],
      "metadata": {
        "colab": {
          "base_uri": "https://localhost:8080/"
        },
        "id": "J7B3NCamkOFm",
        "outputId": "ea01205e-4e02-4be7-99a5-95c20d900eeb"
      },
      "execution_count": 38,
      "outputs": [
        {
          "output_type": "stream",
          "name": "stdout",
          "text": [
            "tensor([1., 1., 1., 1., 1., 1., 1., 1., 1., 1.])\n",
            "tensor([0., 2., 2., 2., 2., 0., 0., 0., 2., 2.])\n",
            "tensor(1.2000)\n"
          ]
        }
      ]
    },
    {
      "cell_type": "code",
      "source": [
        "prob=0.5\n",
        "x=torch.ones(10)\n",
        "dropout=nn.Dropout(p=prob)\n",
        "print(x)\n",
        "y=dropout(x*(1-prob))\n",
        "print(y)\n",
        "print(torch.mean(y))"
      ],
      "metadata": {
        "colab": {
          "base_uri": "https://localhost:8080/"
        },
        "id": "whKadGspkZng",
        "outputId": "d1b82342-52cf-4b9a-b1ff-5ab90758d8fd"
      },
      "execution_count": 39,
      "outputs": [
        {
          "output_type": "stream",
          "name": "stdout",
          "text": [
            "tensor([1., 1., 1., 1., 1., 1., 1., 1., 1., 1.])\n",
            "tensor([1., 0., 1., 1., 0., 0., 0., 0., 0., 0.])\n",
            "tensor(0.3000)\n"
          ]
        }
      ]
    },
    {
      "cell_type": "code",
      "source": [
        "prob=0.5\n",
        "x=torch.ones(10)\n",
        "dropout=nn.Dropout(p=prob)\n",
        "dropout.train()\n",
        "print(x)\n",
        "y=dropout(x)\n",
        "print(y)\n",
        "print(torch.mean(y))"
      ],
      "metadata": {
        "colab": {
          "base_uri": "https://localhost:8080/"
        },
        "id": "pymg2LUOkxb1",
        "outputId": "7daa4ed7-df2f-472f-c8f6-a093d605365c"
      },
      "execution_count": 40,
      "outputs": [
        {
          "output_type": "stream",
          "name": "stdout",
          "text": [
            "tensor([1., 1., 1., 1., 1., 1., 1., 1., 1., 1.])\n",
            "tensor([0., 0., 2., 2., 2., 2., 0., 0., 0., 0.])\n",
            "tensor(0.8000)\n"
          ]
        }
      ]
    },
    {
      "cell_type": "code",
      "source": [
        "prob=0.5\n",
        "x=torch.ones(10)\n",
        "dropout=nn.Dropout(p=prob)\n",
        "dropout.train()\n",
        "print(x)\n",
        "dropout.eval()\n",
        "y=dropout(x)\n",
        "print(y)\n",
        "print(torch.mean(y))"
      ],
      "metadata": {
        "colab": {
          "base_uri": "https://localhost:8080/"
        },
        "id": "XCRWCxK-lMtl",
        "outputId": "30fa7a0f-2ed4-4d4c-9a92-9ee2e364b59e"
      },
      "execution_count": 41,
      "outputs": [
        {
          "output_type": "stream",
          "name": "stdout",
          "text": [
            "tensor([1., 1., 1., 1., 1., 1., 1., 1., 1., 1.])\n",
            "tensor([1., 1., 1., 1., 1., 1., 1., 1., 1., 1.])\n",
            "tensor(1.)\n"
          ]
        }
      ]
    },
    {
      "cell_type": "code",
      "source": [
        "dropout.eval()\n",
        "y = F.dropout(x)\n",
        "print(y)\n",
        "print(torch.mean(y))"
      ],
      "metadata": {
        "colab": {
          "base_uri": "https://localhost:8080/"
        },
        "id": "k2f6BhqtlRAk",
        "outputId": "6af8b8af-2665-4dde-a389-a69302063314"
      },
      "execution_count": 44,
      "outputs": [
        {
          "output_type": "stream",
          "name": "stdout",
          "text": [
            "tensor([2., 0., 0., 2., 0., 2., 0., 0., 0., 0.])\n",
            "tensor(0.6000)\n"
          ]
        }
      ]
    },
    {
      "cell_type": "code",
      "source": [
        "dropout.eval()\n",
        "y = F.dropout(x,training=False)\n",
        "print(y)\n",
        "print(torch.mean(y))"
      ],
      "metadata": {
        "colab": {
          "base_uri": "https://localhost:8080/"
        },
        "id": "UCb_vFapl2xv",
        "outputId": "88cc563b-82c6-491e-f37a-179b57cce086"
      },
      "execution_count": 47,
      "outputs": [
        {
          "output_type": "stream",
          "name": "stdout",
          "text": [
            "tensor([1., 1., 1., 1., 1., 1., 1., 1., 1., 1.])\n",
            "tensor(1.)\n"
          ]
        }
      ]
    },
    {
      "cell_type": "code",
      "source": [],
      "metadata": {
        "id": "GuMs_iV9mUL6"
      },
      "execution_count": null,
      "outputs": []
    }
  ]
}